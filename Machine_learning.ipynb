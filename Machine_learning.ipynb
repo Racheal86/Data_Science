{
  "nbformat": 4,
  "nbformat_minor": 0,
  "metadata": {
    "colab": {
      "provenance": [],
      "authorship_tag": "ABX9TyOKoXANhH/LAKOgI01KTGrc",
      "include_colab_link": true
    },
    "kernelspec": {
      "name": "python3",
      "display_name": "Python 3"
    },
    "language_info": {
      "name": "python"
    }
  },
  "cells": [
    {
      "cell_type": "markdown",
      "metadata": {
        "id": "view-in-github",
        "colab_type": "text"
      },
      "source": [
        "<a href=\"https://colab.research.google.com/github/Racheal86/Data_Science/blob/main/Machine_learning.ipynb\" target=\"_parent\"><img src=\"https://colab.research.google.com/assets/colab-badge.svg\" alt=\"Open In Colab\"/></a>"
      ]
    },
    {
      "cell_type": "markdown",
      "source": [
        "Inport Tensorflow"
      ],
      "metadata": {
        "id": "rx3RL_JGJsVE"
      }
    },
    {
      "cell_type": "code",
      "source": [
        "import tensorflow as tf\n",
        "print(tf.__version__)"
      ],
      "metadata": {
        "colab": {
          "base_uri": "https://localhost:8080/"
        },
        "id": "EjbhRk1-J4ga",
        "outputId": "37a26521-c18c-4a5a-818b-761a84c0f968"
      },
      "execution_count": 21,
      "outputs": [
        {
          "output_type": "stream",
          "name": "stdout",
          "text": [
            "2.11.0\n"
          ]
        }
      ]
    },
    {
      "cell_type": "markdown",
      "source": [
        "import dataset"
      ],
      "metadata": {
        "id": "vYq8MmroKY_J"
      }
    },
    {
      "cell_type": "code",
      "source": [
        "mnist = tf.keras.datasets.mnist\n",
        "(x_train, y_train), (x_test, y_test) = mnist.load_data()\n",
        "x_train, x_test = x_train / 255.0, x_test / 255.0"
      ],
      "metadata": {
        "colab": {
          "base_uri": "https://localhost:8080/"
        },
        "id": "ZgJYtElaL0wO",
        "outputId": "a654f73b-a508-48b5-8573-ae9a1d683a09"
      },
      "execution_count": null,
      "outputs": [
        {
          "output_type": "stream",
          "name": "stdout",
          "text": [
            "Downloading data from https://storage.googleapis.com/tensorflow/tf-keras-datasets/mnist.npz\n",
            "11490434/11490434 [==============================] - 0s 0us/step\n"
          ]
        }
      ]
    },
    {
      "cell_type": "markdown",
      "source": [
        "Building a macine learning model"
      ],
      "metadata": {
        "id": "OK4fTA8zMLHr"
      }
    },
    {
      "cell_type": "code",
      "source": [
        "model = tf.keras.models.Sequential([\n",
        "    tf.keras .layers . Flatten(input_shape=(28, 28)),\n",
        "    tf.keras.layers.Dense(128, activation='relu'),\n",
        "    tf.keras.layers.Dropout(0.2),\n",
        "    tf.keras.layers.Dense(10)\n",
        "])"
      ],
      "metadata": {
        "id": "DkP8EsAZMVyl"
      },
      "execution_count": null,
      "outputs": []
    },
    {
      "cell_type": "markdown",
      "source": [
        "Prediction\n"
      ],
      "metadata": {
        "id": "utq_VfFCP21V"
      }
    },
    {
      "cell_type": "code",
      "source": [
        "predictions = model(x_train[:1]).numpy()\n",
        "predictions"
      ],
      "metadata": {
        "colab": {
          "base_uri": "https://localhost:8080/"
        },
        "id": "h6quFG9GP4vg",
        "outputId": "63decfb8-1f54-486b-bfc6-7992441e685d"
      },
      "execution_count": null,
      "outputs": [
        {
          "output_type": "execute_result",
          "data": {
            "text/plain": [
              "array([[-0.652422  ,  0.05657198, -0.13605896, -0.29347777, -0.04692724,\n",
              "         0.55047214, -0.39049596,  0.5032376 ,  0.41352123,  1.1357468 ]],\n",
              "      dtype=float32)"
            ]
          },
          "metadata": {},
          "execution_count": 14
        }
      ]
    },
    {
      "cell_type": "markdown",
      "source": [],
      "metadata": {
        "id": "AxncdqFbTgri"
      }
    },
    {
      "cell_type": "markdown",
      "source": [
        "Deploy Softmax"
      ],
      "metadata": {
        "id": "ViwKNqigSltP"
      }
    },
    {
      "cell_type": "code",
      "source": [
        "tf.nn.softmax(predictions).numpy()"
      ],
      "metadata": {
        "colab": {
          "base_uri": "https://localhost:8080/"
        },
        "id": "ucbQ7jFTSqbV",
        "outputId": "8624eb7b-c522-4bcc-ead4-1980fa5f5618"
      },
      "execution_count": null,
      "outputs": [
        {
          "output_type": "execute_result",
          "data": {
            "text/plain": [
              "array([[0.04055281, 0.08240113, 0.06796332, 0.0580642 , 0.07429918,\n",
              "        0.13503031, 0.05269556, 0.12880051, 0.11774819, 0.24244478]],\n",
              "      dtype=float32)"
            ]
          },
          "metadata": {},
          "execution_count": 15
        }
      ]
    },
    {
      "cell_type": "markdown",
      "source": [
        "Loss Function for the Training"
      ],
      "metadata": {
        "id": "mDoblCkZTVMS"
      }
    },
    {
      "cell_type": "code",
      "source": [
        "loss_fn = tf.keras.losses. SparseCategoricalCrossentropy(from_logits=True)"
      ],
      "metadata": {
        "id": "bG3O_WphTaPS"
      },
      "execution_count": 18,
      "outputs": []
    },
    {
      "cell_type": "code",
      "source": [
        "loss_fn(y_train[:1], predictions).numpy( )"
      ],
      "metadata": {
        "colab": {
          "base_uri": "https://localhost:8080/"
        },
        "id": "uP7Kx80jXm-_",
        "outputId": "f3aa38b5-e255-4cfc-b537-e1d159449668"
      },
      "execution_count": 19,
      "outputs": [
        {
          "output_type": "execute_result",
          "data": {
            "text/plain": [
              "2.002256"
            ]
          },
          "metadata": {},
          "execution_count": 19
        }
      ]
    },
    {
      "cell_type": "markdown",
      "source": [
        "Configure and Compile the model before training the model"
      ],
      "metadata": {
        "id": "Y-3O479iaJMw"
      }
    },
    {
      "cell_type": "code",
      "source": [
        "model.compile(optimizer='adam',\n",
        "              loss=loss_fn,\n",
        "              metrics=['accuracy'])\n",
        "            "
      ],
      "metadata": {
        "id": "1cNAygm5aTWM"
      },
      "execution_count": 23,
      "outputs": []
    },
    {
      "cell_type": "markdown",
      "source": [
        "Train and evaluate the model"
      ],
      "metadata": {
        "id": "PhElzY6ubCvF"
      }
    },
    {
      "cell_type": "code",
      "source": [
        "model.fit(x_train, y_train, epochs=5)"
      ],
      "metadata": {
        "colab": {
          "base_uri": "https://localhost:8080/"
        },
        "id": "_T69WI3gbGm8",
        "outputId": "c40d7beb-e738-4162-836e-30981696c2a3"
      },
      "execution_count": 26,
      "outputs": [
        {
          "output_type": "stream",
          "name": "stdout",
          "text": [
            "Epoch 1/5\n",
            "1875/1875 [==============================] - 10s 5ms/step - loss: 0.2949 - accuracy: 0.9144\n",
            "Epoch 2/5\n",
            "1875/1875 [==============================] - 10s 5ms/step - loss: 0.1438 - accuracy: 0.9565\n",
            "Epoch 3/5\n",
            "1875/1875 [==============================] - 9s 5ms/step - loss: 0.1070 - accuracy: 0.9669\n",
            "Epoch 4/5\n",
            "1875/1875 [==============================] - 8s 4ms/step - loss: 0.0883 - accuracy: 0.9732\n",
            "Epoch 5/5\n",
            "1875/1875 [==============================] - 9s 5ms/step - loss: 0.0746 - accuracy: 0.9765\n"
          ]
        },
        {
          "output_type": "execute_result",
          "data": {
            "text/plain": [
              "<keras.callbacks.History at 0x7f9f980cd160>"
            ]
          },
          "metadata": {},
          "execution_count": 26
        }
      ]
    },
    {
      "cell_type": "markdown",
      "source": [
        "Evaluate the model"
      ],
      "metadata": {
        "id": "5Sxn0qWScEz8"
      }
    },
    {
      "cell_type": "code",
      "source": [
        "model.evaluate(x_test, y_test, verbose=2)"
      ],
      "metadata": {
        "colab": {
          "base_uri": "https://localhost:8080/"
        },
        "id": "QS7fgEJGcJlb",
        "outputId": "ff4de258-6ad7-4d92-fc8f-73179c241684"
      },
      "execution_count": 27,
      "outputs": [
        {
          "output_type": "stream",
          "name": "stdout",
          "text": [
            "313/313 - 1s - loss: 0.0741 - accuracy: 0.9771 - 701ms/epoch - 2ms/step\n"
          ]
        },
        {
          "output_type": "execute_result",
          "data": {
            "text/plain": [
              "[0.0740850418806076, 0.9771000146865845]"
            ]
          },
          "metadata": {},
          "execution_count": 27
        }
      ]
    },
    {
      "cell_type": "markdown",
      "source": [
        "Image Classifier"
      ],
      "metadata": {
        "id": "QBp8Fc1SftKh"
      }
    },
    {
      "cell_type": "code",
      "source": [
        "probability_model= tf.keras.Sequential([model,tf.keras.layers.Softmax()])"
      ],
      "metadata": {
        "id": "hSJA0qQ1fwvi"
      },
      "execution_count": 30,
      "outputs": []
    },
    {
      "cell_type": "code",
      "source": [
        "probability_model(x_train[:5])"
      ],
      "metadata": {
        "colab": {
          "base_uri": "https://localhost:8080/"
        },
        "id": "74G_FJ13gTET",
        "outputId": "60ec4b4f-847e-416c-cdfc-935e67369524"
      },
      "execution_count": 31,
      "outputs": [
        {
          "output_type": "execute_result",
          "data": {
            "text/plain": [
              "<tf.Tensor: shape=(5, 10), dtype=float32, numpy=\n",
              "array([[5.7669342e-10, 6.7370771e-09, 4.3952717e-08, 1.7077407e-02,\n",
              "        3.2287207e-16, 9.8292208e-01, 5.4105415e-14, 1.4022227e-07,\n",
              "        6.2743399e-10, 3.1051337e-07],\n",
              "       [9.9998140e-01, 1.5296932e-10, 1.8044617e-05, 2.1251110e-09,\n",
              "        4.2604725e-10, 1.2901310e-08, 8.1323527e-08, 1.6539526e-07,\n",
              "        2.6912858e-08, 1.7252941e-07],\n",
              "       [2.1483274e-08, 4.4661297e-06, 5.3203909e-04, 2.2529584e-05,\n",
              "        9.9822527e-01, 3.9356511e-08, 1.9249021e-06, 3.2981747e-04,\n",
              "        1.4309971e-05, 8.6961238e-04],\n",
              "       [1.6934111e-08, 9.9971420e-01, 7.8861331e-07, 1.4787960e-07,\n",
              "        6.7040764e-06, 2.5430970e-07, 5.8613342e-08, 2.7468041e-04,\n",
              "        3.0960321e-06, 2.2388376e-10],\n",
              "       [1.0127768e-09, 6.3989631e-07, 1.8871550e-07, 1.1082625e-05,\n",
              "        1.3257968e-03, 6.6746196e-07, 1.4279037e-09, 9.2686219e-05,\n",
              "        1.8102977e-05, 9.9855083e-01]], dtype=float32)>"
            ]
          },
          "metadata": {},
          "execution_count": 31
        }
      ]
    },
    {
      "cell_type": "markdown",
      "source": [
        "Basic Time Calculator"
      ],
      "metadata": {
        "id": "3IwEZhr1hRXf"
      }
    },
    {
      "cell_type": "code",
      "source": [
        "seconds_in_a_day = 24 * 60 * 60\n",
        "seconds_in_a_day"
      ],
      "metadata": {
        "colab": {
          "base_uri": "https://localhost:8080/"
        },
        "id": "S6jnQWP1hVhJ",
        "outputId": "dcb7ab87-4318-4151-f16f-b78b81efc6d3"
      },
      "execution_count": 32,
      "outputs": [
        {
          "output_type": "execute_result",
          "data": {
            "text/plain": [
              "86400"
            ]
          },
          "metadata": {},
          "execution_count": 32
        }
      ]
    },
    {
      "cell_type": "code",
      "source": [
        "seconds_in_a_week = seconds_in_a_day * 7\n",
        "seconds_in_a_week"
      ],
      "metadata": {
        "colab": {
          "base_uri": "https://localhost:8080/"
        },
        "id": "jb1qKI7whon_",
        "outputId": "c91364a2-d153-413a-f5cc-d0a3dd3dfcf5"
      },
      "execution_count": 33,
      "outputs": [
        {
          "output_type": "execute_result",
          "data": {
            "text/plain": [
              "604800"
            ]
          },
          "metadata": {},
          "execution_count": 33
        }
      ]
    },
    {
      "cell_type": "markdown",
      "source": [
        "Datascience model: Using matplotlib to visualize numpy"
      ],
      "metadata": {
        "id": "i0M2yi19h6Hh"
      }
    },
    {
      "cell_type": "code",
      "source": [
        "import numpy as np\n",
        "from matplotlib import pyplot as plt\n",
        "\n",
        "ys = 200 + np.random.randn(100)\n",
        "x =[x for x in range(len(ys))]\n",
        "\n",
        "plt.plot(x,ys, '-')\n",
        "plt.fill_between(x,ys,195, where=(ys >195),  facecolor='g', alpha=0.6)\n",
        "\n",
        "plt.title(\"AI Bootcamp Makerere\")\n",
        "plt.show()\n"
      ],
      "metadata": {
        "colab": {
          "base_uri": "https://localhost:8080/",
          "height": 281
        },
        "id": "OswjBUuSiWSa",
        "outputId": "4cb982cd-0b15-4ac1-e069-ac65e2e2df7c"
      },
      "execution_count": 34,
      "outputs": [
        {
          "output_type": "display_data",
          "data": {
            "text/plain": [
              "<Figure size 432x288 with 1 Axes>"
            ],
            "image/png": "[encoded data removed]"
          },
          "metadata": {
            "needs_background": "light"
          }
        }
      ]
    }
  ]
}