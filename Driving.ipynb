{
  "nbformat": 4,
  "nbformat_minor": 0,
  "metadata": {
    "colab": {
      "provenance": [],
      "authorship_tag": "ABX9TyNqFuAT7lqVmMZhIJuJIA+1",
      "include_colab_link": true
    },
    "kernelspec": {
      "name": "python3",
      "display_name": "Python 3"
    },
    "language_info": {
      "name": "python"
    }
  },
  "cells": [
    {
      "cell_type": "markdown",
      "metadata": {
        "id": "view-in-github",
        "colab_type": "text"
      },
      "source": [
        "<a href=\"https://colab.research.google.com/github/Racheal86/Data_Science/blob/main/Driving.ipynb\" target=\"_parent\"><img src=\"https://colab.research.google.com/assets/colab-badge.svg\" alt=\"Open In Colab\"/></a>"
      ]
    },
    {
      "cell_type": "code",
      "execution_count": null,
      "metadata": {
        "id": "Q7uOEdXpwd_Q"
      },
      "outputs": [],
      "source": []
    },
    {
      "cell_type": "code",
      "source": [
        "import tensorflow as tf\n",
        "import torch\n",
        "import torch.nn as nn\n",
        "import torch.optim as optim\n",
        "import random\n",
        "from collections import deque\n",
        "\n",
        "\n",
        "class DQN(nn.Module):\n",
        "  def __init__(self, state_size, action_size):\n",
        "    super(DQN, self).__init__()\n",
        "    self.fc1 = nn.Linear(state_size, 64)\n",
        "    self.fc2 = nn.Linear(64,64)\n",
        "    self.fc3 = nn.Linear(64, action_size)\n",
        "\n",
        "  def forward(self,x)\n",
        "     x = torch.relu(self.fc1(x))\n",
        "     x = torch.relu(self.fc2(x))\n",
        "     x = self.fc3(x)\n",
        "     return x\n",
        "\n",
        " # define aggent and training parameters\n",
        "  class Agent:\n",
        "    def __init__ (self, state_size, gamma=0.99, epsilon=1.0, epsilon_min=0.01, epsilon_decay=0.99 self.state = state_size)\n",
        "    self_state_size = state_size       \n",
        "    self.action_size = action_size\n",
        "    self.gamma = gamma\n",
        "    self.epsilon = epsilon\n",
        "    self.epsilon_min = epsilon_min\n",
        "    self.assertepsilon_decay = epsilon_decay\n",
        "    self.batch_size = batch_size\n",
        "    self.memory = dwque(maxlen=memory_size)\n",
        "    self.model =DQN(state_size, action_size)\n",
        "    self.optimizer = optim.Adam(self.model.parameters(), Ir=0.001)\n",
        "    self.criterion =nn.MSELoss()\n",
        "    \n"
      ],
      "metadata": {
        "id": "RMuackAswfSo"
      },
      "execution_count": null,
      "outputs": []
    }
  ]
}