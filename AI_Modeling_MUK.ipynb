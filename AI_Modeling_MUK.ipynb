{
  "nbformat": 4,
  "nbformat_minor": 0,
  "metadata": {
    "colab": {
      "provenance": [],
      "authorship_tag": "ABX9TyPHsOJmPbq273DxF1T2jbj3",
      "include_colab_link": true
    },
    "kernelspec": {
      "name": "python3",
      "display_name": "Python 3"
    },
    "language_info": {
      "name": "python"
    }
  },
  "cells": [
    {
      "cell_type": "markdown",
      "metadata": {
        "id": "view-in-github",
        "colab_type": "text"
      },
      "source": [
        "<a href=\"https://colab.research.google.com/github/Racheal86/Data_Science/blob/main/AI_Modeling_MUK.ipynb\" target=\"_parent\"><img src=\"https://colab.research.google.com/assets/colab-badge.svg\" alt=\"Open In Colab\"/></a>"
      ]
    },
    {
      "cell_type": "markdown",
      "source": [
        "Calculate the area of different shapes"
      ],
      "metadata": {
        "id": "yRyWhsy_blvp"
      }
    },
    {
      "cell_type": "code",
      "source": [
        "shape = [\"Square\",\"Rectangle\", \"Circle\"]\n",
        "intials = [\"S\", \"R\", \"C\"]\n",
        "S = \"Square\"\n",
        "R = \"Rectangle\"\n",
        "C = \"Circle\"\n",
        "print(intials)\n"
      ],
      "metadata": {
        "colab": {
          "base_uri": "https://localhost:8080/"
        },
        "id": "fm-jbrbsbskI",
        "outputId": "258cd6e3-53ac-4587-bed7-037d6f6b7d95"
      },
      "execution_count": 6,
      "outputs": [
        {
          "output_type": "stream",
          "name": "stdout",
          "text": [
            "['S', 'R', 'C']\n"
          ]
        }
      ]
    },
    {
      "cell_type": "markdown",
      "source": [
        "Area of a Square"
      ],
      "metadata": {
        "id": "4CIA2R5WiMAq"
      }
    },
    {
      "cell_type": "code",
      "source": [
        "def calculate_Square_area(side_length):\n",
        "  area = side_length **2\n",
        "  return area"
      ],
      "metadata": {
        "id": "65clyGR8bhLz"
      },
      "execution_count": 7,
      "outputs": []
    },
    {
      "cell_type": "markdown",
      "source": [
        "Area of a Rectangle"
      ],
      "metadata": {
        "id": "NTRFOn24h6eB"
      }
    },
    {
      "cell_type": "code",
      "source": [
        "length = float(input(\"Enter length of the Rectangle:\"))\n",
        "width = float(input(\"enter width of Rectangle: \"))\n",
        "\n",
        "area = length * width\n",
        "\n",
        "print(\"The area of Rectangle is:\", area)\n",
        "\n"
      ],
      "metadata": {
        "colab": {
          "base_uri": "https://localhost:8080/"
        },
        "id": "cKQdMyPsgfMH",
        "outputId": "cf075dc8-13f5-4bb1-ddcb-401758d153e7"
      },
      "execution_count": 9,
      "outputs": [
        {
          "output_type": "stream",
          "name": "stdout",
          "text": [
            "Enter length of the Rectangle:8\n",
            "enter width of Rectangle: 4\n",
            "The area of Rectangle is: 32.0\n"
          ]
        }
      ]
    },
    {
      "cell_type": "code",
      "source": [],
      "metadata": {
        "id": "VxO8R6gUhy0P"
      },
      "execution_count": null,
      "outputs": []
    },
    {
      "cell_type": "markdown",
      "source": [
        "Area of a Circle"
      ],
      "metadata": {
        "id": "LFGHAl_iiQ0A"
      }
    },
    {
      "cell_type": "code",
      "source": [
        "import math\n",
        "\n",
        "radius = float(input(\"Enter the radius of the circle:\"))\n",
        "\n",
        "area = math.pi * radius **2\n",
        "\n",
        "print(\"The area of the circle is:\", area)"
      ],
      "metadata": {
        "colab": {
          "base_uri": "https://localhost:8080/"
        },
        "id": "XaOEn-rYiUHh",
        "outputId": "2370b5ce-0471-43b8-c17f-603fac37d5db"
      },
      "execution_count": 10,
      "outputs": [
        {
          "output_type": "stream",
          "name": "stdout",
          "text": [
            "Enter the radius of the circle:5\n",
            "The area of the circle is: 78.53981633974483\n"
          ]
        }
      ]
    }
  ]
}