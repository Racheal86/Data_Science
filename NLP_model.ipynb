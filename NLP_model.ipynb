{
  "nbformat": 4,
  "nbformat_minor": 0,
  "metadata": {
    "colab": {
      "provenance": [],
      "authorship_tag": "ABX9TyNwhehqzFRrRfAwUZzWcV3z",
      "include_colab_link": true
    },
    "kernelspec": {
      "name": "python3",
      "display_name": "Python 3"
    },
    "language_info": {
      "name": "python"
    }
  },
  "cells": [
    {
      "cell_type": "markdown",
      "metadata": {
        "id": "view-in-github",
        "colab_type": "text"
      },
      "source": [
        "<a href=\"https://colab.research.google.com/github/Racheal86/Data_Science/blob/main/NLP_model.ipynb\" target=\"_parent\"><img src=\"https://colab.research.google.com/assets/colab-badge.svg\" alt=\"Open In Colab\"/></a>"
      ]
    },
    {
      "cell_type": "code",
      "execution_count": null,
      "metadata": {
        "id": "GC-lnlTrcBd4"
      },
      "outputs": [],
      "source": []
    },
    {
      "cell_type": "markdown",
      "source": [
        "Sentiment Analysis: Develop an NLP model to analyze the sentiment of movie reviews using NLTK or Spacy"
      ],
      "metadata": {
        "id": "Sd-pBYkdcJMr"
      }
    },
    {
      "cell_type": "code",
      "source": [
        "import gym\n",
        "import numpy as np\n",
        "import random\n",
        "from collections import deque\n",
        "from keras.models import Sequential\n",
        "from keras.layers import Dense\n",
        "from keras.optimizers import Adam\n",
        "\n",
        "class DQNAgent:\n",
        "  def _init_(self, state_size, action_size):\n",
        "    self.state_size = state_size\n",
        "    self.action_size = action_size\n",
        "    self.memory = deque(maxlen=2000)\n",
        "    self.gamma = 0.95\n",
        "    self.epilson = 1.0\n",
        "    self.epsilon_min = 0.01\n",
        "    self.epsilon_decay = 0.995\n",
        "    self_learning_rate = 0.001\n",
        "    self.model + self.build_model()\n",
        "\n",
        "def _build_model(self):\n",
        "   model = Sequential()\n",
        "   model.add(Dense(24, input_dim=self.state_size, activation='relu'))\n",
        "   model.add(Dense(24, activation='linear'))  \n",
        "   model.add(Dense(self.action_action, activation='linear'))\n",
        "   model.compile(loss='mse', optimizer=Adam(lr=self.learning_rate)) \n",
        "\n",
        "def remember(self, state, action, reward, next_state, done):\n",
        "  self.memory.append((state, action, ))  \n",
        "\n",
        "def act(self, state):\n",
        "  if np.random.rand() <= self.epsilon:\n",
        "    return random.range(self.action_size)\n",
        "\n",
        "  else: \n",
        "   return np.argmax(self.model.predict(state)[0])\n",
        "def replay(self, batch_size): \n",
        "  minibatch = random.sample(self.memory, batch_size)\n",
        "  for state, action, reward, next_state, done in minibatch:\n",
        "    target = reward    \n",
        "\n",
        "    if not done:\n",
        "      target = reward + self.gamma * np.max(self.model.predict(next_state)[0])\n",
        "    target_f = self.model.predict(state)\n",
        "    target_f[0][action] = target\n",
        "    self.model.fit(state, target_f, epochs=1, verbose=0)\n",
        "    if self.epsilon > self.epsilon_min:\n",
        "     self.epsilon *=self.epsilon_decay\n",
        "\n",
        "  if _name_== \"_main_\":    \n",
        "    env = gym.make('Cartpole-v1')\n",
        "\n",
        "    state_size = env.obsevation_space.shape[0]\n",
        "    action_size = env.action_space.n\n",
        "    agent = DQNAgent(state, [1, state_size])\n",
        "    for time in range(500):\n",
        "     env.render()\n",
        "    action = agent.act(state)\n",
        "    next_state,reward, done, _=env.step(action)\n",
        "    reward = reward if not done else -10\n",
        "    next_state, np.reshape(next_state, [1, state_size])\n",
        "    agent.remember(state, action, reward, next_state, done)\n",
        "    state = next_state \n",
        "    if done:\n",
        "      print(\"episode:{}, e:{:.2}\" .format(e, 1000, time, agent.epsilon))\n",
        "\n",
        " break \n",
        "\n",
        "                        "
      ],
      "metadata": {
        "id": "E9RiVN6XcbHV"
      },
      "execution_count": null,
      "outputs": []
    }
  ]
}