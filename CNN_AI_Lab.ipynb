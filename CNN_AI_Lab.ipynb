{
  "nbformat": 4,
  "nbformat_minor": 0,
  "metadata": {
    "colab": {
      "provenance": [],
      "include_colab_link": true
    },
    "kernelspec": {
      "name": "python3",
      "display_name": "Python 3"
    },
    "language_info": {
      "name": "python"
    }
  },
  "cells": [
    {
      "cell_type": "markdown",
      "metadata": {
        "id": "view-in-github",
        "colab_type": "text"
      },
      "source": [
        "<a href=\"https://colab.research.google.com/github/Racheal86/Data_Science/blob/main/CNN_AI_Lab.ipynb\" target=\"_parent\"><img src=\"https://colab.research.google.com/assets/colab-badge.svg\" alt=\"Open In Colab\"/></a>"
      ]
    },
    {
      "cell_type": "code",
      "execution_count": null,
      "metadata": {
        "id": "aMs7cgQhKAI5"
      },
      "outputs": [],
      "source": [
        "#Devope a Convolutional Neural Network(CNN) TO Classify images using Tensorflow or keras"
      ]
    },
    {
      "cell_type": "code",
      "source": [
        "#import modules\n",
        "import tensorflow as tf\n",
        "from tensorflow import keras\n",
        "\n",
        "#Defining the CNN Model\n",
        "model = keras.Sequential([\n",
        "    \n",
        "    # Adding the first convolutional layer\n",
        "    keras.layers.Conv2D(filters=32, kernel_size=(3,3), activation='relu', input_shape=(28,28,1)),\n",
        "    \n",
        "    #Add first max pooling layer\n",
        "    keras.layers.MaxPooling2D(pool_size=(2,2)),\n",
        "    \n",
        "    #Add the second convolutional layer\n",
        "     keras.layers.Conv2D(filters=64, kernel_size=(3,3), activation='relu'),\n",
        "\n",
        "    #Add second max pooling layer\n",
        "    keras.layers.MaxPooling2D(pool_size=(2,2)),\n",
        "\n",
        "    #Fatten the output from the convolutional layers\n",
        "    keras.layers.Flatten(),\n",
        "\n",
        "    #get all the layers fully connected with 128 neurons\n",
        "    keras.layers.Dense(units=128, activation= 'relu'),\n",
        "\n",
        "    #Add ouput layer with 10 neurons\n",
        "    keras.layers.Dense(units=10, activation='softmax')\n",
        "\n",
        "\n",
        "    ])\n",
        "\n",
        "# compile the model with categorical crossentropy\n",
        "model.compile(loss='categorical_crossentropy', optimizer='adam', metrics=['accuracy'])\n",
        "\n",
        "#Training the model on MNIST Dataset\n",
        "(train_images, train_labels), (test_images, test_labels) = keras.datasets.mnist.load_data()\n",
        "train_images = train_images.reshape((60000, 28,28,1))\n",
        "train_images = train_images.astype('float32') / 225\n",
        "\n",
        "test_images = test_images.reshape((10000, 28,28,1))\n",
        "test_images = test_images.astype('float32') / 225\n",
        "\n",
        "train_labels = keras.utils.to_categorical(train_labels)\n",
        "test_labels = keras.utils.to_categorical(test_labels)\n",
        "model.fit(train_images, train_labels, epochs=5, batch_size=64)\n",
        "\n",
        "#Evaluation for the model on the given dataset\n",
        "test_loss, test_acc = model.evaluate(test_images, test_labels)\n",
        "\n",
        "print('AI Bootcamp CNN Model_Test Accuracy:', test_acc)"
      ],
      "metadata": {
        "id": "_uNGgTGZKTxb",
        "colab": {
          "base_uri": "https://localhost:8080/"
        },
        "outputId": "efb18acc-74ff-4ada-d2cb-e91626878cd7"
      },
      "execution_count": 10,
      "outputs": [
        {
          "output_type": "stream",
          "name": "stdout",
          "text": [
            "Epoch 1/5\n",
            "938/938 [==============================] - 61s 64ms/step - loss: 0.1605 - accuracy: 0.9511\n",
            "Epoch 2/5\n",
            "938/938 [==============================] - 57s 61ms/step - loss: 0.0490 - accuracy: 0.9848\n",
            "Epoch 3/5\n",
            "938/938 [==============================] - 59s 63ms/step - loss: 0.0346 - accuracy: 0.9889\n",
            "Epoch 4/5\n",
            "938/938 [==============================] - 58s 61ms/step - loss: 0.0252 - accuracy: 0.9919\n",
            "Epoch 5/5\n",
            "938/938 [==============================] - 59s 62ms/step - loss: 0.0185 - accuracy: 0.9940\n",
            "313/313 [==============================] - 4s 12ms/step - loss: 0.0345 - accuracy: 0.9886\n",
            "AI Bootcamp CNN Model_Test Accuracy: 0.9886000156402588\n"
          ]
        }
      ]
    },
    {
      "cell_type": "code",
      "source": [],
      "metadata": {
        "id": "5sBIDwEVbzw3"
      },
      "execution_count": null,
      "outputs": []
    },
    {
      "cell_type": "code",
      "source": [],
      "metadata": {
        "id": "yW5XuNGFRb4t"
      },
      "execution_count": null,
      "outputs": []
    }
  ]
}